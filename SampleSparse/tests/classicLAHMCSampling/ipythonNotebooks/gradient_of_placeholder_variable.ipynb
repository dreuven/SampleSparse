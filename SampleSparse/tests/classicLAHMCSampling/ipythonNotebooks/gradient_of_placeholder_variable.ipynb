{
 "cells": [
  {
   "cell_type": "code",
   "execution_count": 6,
   "metadata": {
    "collapsed": true
   },
   "outputs": [],
   "source": [
    "import tensorflow as tf\n",
    "import numpy as np"
   ]
  },
  {
   "cell_type": "code",
   "execution_count": 28,
   "metadata": {
    "collapsed": false
   },
   "outputs": [
    {
     "data": {
      "text/plain": [
       "[array([[-224.90142822, -224.90142822, -224.90142822, ..., -224.90142822,\n",
       "         -224.90142822, -224.90142822],\n",
       "        [-224.90142822, -224.90142822, -224.90142822, ..., -224.90142822,\n",
       "         -224.90142822, -224.90142822],\n",
       "        [-224.90142822, -224.90142822, -224.90142822, ..., -224.90142822,\n",
       "         -224.90142822, -224.90142822],\n",
       "        ..., \n",
       "        [-224.90142822, -224.90142822, -224.90142822, ..., -224.90142822,\n",
       "         -224.90142822, -224.90142822],\n",
       "        [-224.90142822, -224.90142822, -224.90142822, ..., -224.90142822,\n",
       "         -224.90142822, -224.90142822],\n",
       "        [-224.90142822, -224.90142822, -224.90142822, ..., -224.90142822,\n",
       "         -224.90142822, -224.90142822]], dtype=float32)]"
      ]
     },
     "execution_count": 28,
     "metadata": {},
     "output_type": "execute_result"
    }
   ],
   "source": [
    "sess = tf.Session()\n",
    "x = tf.placeholder(\"float\", [None, 100])\n",
    "def rando_func(sess):\n",
    "    result = tf.reduce_sum(x) ** 2\n",
    "    return result\n",
    "sess.run(tf.initialize_all_variables())\n",
    "val = sess.run(rando_func(sess), feed_dict = {x:np.random.randn(200, 100)})\n",
    "sess.run(tf.gradients(rando_func(sess), [x]), feed_dict = {x:np.random.randn(200, 100)})"
   ]
  },
  {
   "cell_type": "code",
   "execution_count": null,
   "metadata": {
    "collapsed": true
   },
   "outputs": [],
   "source": []
  }
 ],
 "metadata": {
  "kernelspec": {
   "display_name": "Python 3",
   "language": "python",
   "name": "python3"
  },
  "language_info": {
   "codemirror_mode": {
    "name": "ipython",
    "version": 3
   },
   "file_extension": ".py",
   "mimetype": "text/x-python",
   "name": "python",
   "nbconvert_exporter": "python",
   "pygments_lexer": "ipython3",
   "version": "3.4.3"
  }
 },
 "nbformat": 4,
 "nbformat_minor": 0
}
