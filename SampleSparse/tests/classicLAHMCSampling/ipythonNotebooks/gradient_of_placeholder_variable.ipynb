{
 "cells": [
  {
   "cell_type": "code",
   "execution_count": 6,
   "metadata": {
    "collapsed": true
   },
   "outputs": [],
   "source": [
    "import tensorflow as tf\n",
    "import numpy as np"
   ]
  },
  {
   "cell_type": "code",
   "execution_count": 30,
   "metadata": {
    "collapsed": false
   },
   "outputs": [
    {
     "name": "stdout",
     "output_type": "stream",
     "text": [
      "[array([[-156.41358948, -156.41358948, -156.41358948, ..., -156.41358948,\n",
      "        -156.41358948, -156.41358948],\n",
      "       [-156.41358948, -156.41358948, -156.41358948, ..., -156.41358948,\n",
      "        -156.41358948, -156.41358948],\n",
      "       [-156.41358948, -156.41358948, -156.41358948, ..., -156.41358948,\n",
      "        -156.41358948, -156.41358948],\n",
      "       ..., \n",
      "       [-156.41358948, -156.41358948, -156.41358948, ..., -156.41358948,\n",
      "        -156.41358948, -156.41358948],\n",
      "       [-156.41358948, -156.41358948, -156.41358948, ..., -156.41358948,\n",
      "        -156.41358948, -156.41358948],\n",
      "       [-156.41358948, -156.41358948, -156.41358948, ..., -156.41358948,\n",
      "        -156.41358948, -156.41358948]], dtype=float32)]\n",
      "[array([[ 163.07661438,  163.07661438,  163.07661438, ...,  163.07661438,\n",
      "         163.07661438,  163.07661438],\n",
      "       [ 163.07661438,  163.07661438,  163.07661438, ...,  163.07661438,\n",
      "         163.07661438,  163.07661438],\n",
      "       [ 163.07661438,  163.07661438,  163.07661438, ...,  163.07661438,\n",
      "         163.07661438,  163.07661438],\n",
      "       ..., \n",
      "       [ 163.07661438,  163.07661438,  163.07661438, ...,  163.07661438,\n",
      "         163.07661438,  163.07661438],\n",
      "       [ 163.07661438,  163.07661438,  163.07661438, ...,  163.07661438,\n",
      "         163.07661438,  163.07661438],\n",
      "       [ 163.07661438,  163.07661438,  163.07661438, ...,  163.07661438,\n",
      "         163.07661438,  163.07661438]], dtype=float32)]\n"
     ]
    }
   ],
   "source": [
    "sess = tf.Session()\n",
    "x = tf.placeholder(\"float\", [None, 100])\n",
    "def rando_func(sess):\n",
    "    result = tf.reduce_sum(x) ** 2\n",
    "    return result\n",
    "y = rando_func(sess)\n",
    "sess.run(tf.initialize_all_variables())\n",
    "val = sess.run(rando_func(sess), feed_dict = {x:np.random.randn(200, 100)})\n",
    "print(sess.run(tf.gradients(rando_func(sess), [x]), feed_dict = {x:np.random.randn(200, 100)}))\n",
    "print(sess.run(tf.gradients(y, [x]), feed_dict = {x:np.random.randn(200, 100)}))\n"
   ]
  },
  {
   "cell_type": "code",
   "execution_count": null,
   "metadata": {
    "collapsed": true
   },
   "outputs": [],
   "source": [
    "tf.gradients(rando_func())"
   ]
  }
 ],
 "metadata": {
  "kernelspec": {
   "display_name": "Python 3",
   "language": "python",
   "name": "python3"
  },
  "language_info": {
   "codemirror_mode": {
    "name": "ipython",
    "version": 3
   },
   "file_extension": ".py",
   "mimetype": "text/x-python",
   "name": "python",
   "nbconvert_exporter": "python",
   "pygments_lexer": "ipython3",
   "version": "3.4.3"
  }
 },
 "nbformat": 4,
 "nbformat_minor": 0
}
